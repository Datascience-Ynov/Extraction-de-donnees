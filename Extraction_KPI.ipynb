{
 "cells": [
  {
   "cell_type": "code",
   "execution_count": 40,
   "metadata": {},
   "outputs": [
    {
     "name": "stdout",
     "output_type": "stream",
     "text": [
      "Requirement already satisfied: openpyxl in c:\\users\\hp\\anaconda3\\lib\\site-packages (3.1.5)\n",
      "Requirement already satisfied: et-xmlfile in c:\\users\\hp\\anaconda3\\lib\\site-packages (from openpyxl) (1.1.0)\n",
      "Note: you may need to restart the kernel to use updated packages.\n"
     ]
    }
   ],
   "source": [
    "pip install  openpyxl"
   ]
  },
  {
   "cell_type": "markdown",
   "metadata": {},
   "source": [
    "# Importer les librairies necessaires pour le projet"
   ]
  },
  {
   "cell_type": "code",
   "execution_count": 41,
   "metadata": {},
   "outputs": [],
   "source": [
    "import pandas as pd\n",
    "import json\n",
    "import matplotlib.pyplot as plt\n"
   ]
  },
  {
   "cell_type": "markdown",
   "metadata": {},
   "source": [
    "# Charger le dataset et afficher les infos et les 5 premieres lignes"
   ]
  },
  {
   "cell_type": "code",
   "execution_count": 42,
   "metadata": {},
   "outputs": [
    {
     "name": "stdout",
     "output_type": "stream",
     "text": [
      "<class 'pandas.core.frame.DataFrame'>\n",
      "RangeIndex: 3129 entries, 0 to 3128\n",
      "Data columns (total 9 columns):\n",
      " #   Column              Non-Null Count  Dtype         \n",
      "---  ------              --------------  -----         \n",
      " 0   dt                  3129 non-null   datetime64[ns]\n",
      " 1   name                3129 non-null   object        \n",
      " 2   customDimensions    3129 non-null   object        \n",
      " 3   customMeasurements  1117 non-null   object        \n",
      " 4   operation_Id        3129 non-null   object        \n",
      " 5   operation_ParentId  3129 non-null   object        \n",
      " 6   session_Id          3129 non-null   object        \n",
      " 7   user_Id             3129 non-null   object        \n",
      " 8   client_City         3125 non-null   object        \n",
      "dtypes: datetime64[ns](1), object(8)\n",
      "memory usage: 220.1+ KB\n"
     ]
    }
   ],
   "source": [
    "file_name = 'logs_matching.xlsx'\n",
    "df = pd.read_excel(file_name)\n",
    "d1 = df.copy()\n",
    "df.info()"
   ]
  },
  {
   "cell_type": "code",
   "execution_count": 43,
   "metadata": {},
   "outputs": [
    {
     "data": {
      "text/html": [
       "<div>\n",
       "<style scoped>\n",
       "    .dataframe tbody tr th:only-of-type {\n",
       "        vertical-align: middle;\n",
       "    }\n",
       "\n",
       "    .dataframe tbody tr th {\n",
       "        vertical-align: top;\n",
       "    }\n",
       "\n",
       "    .dataframe thead th {\n",
       "        text-align: right;\n",
       "    }\n",
       "</style>\n",
       "<table border=\"1\" class=\"dataframe\">\n",
       "  <thead>\n",
       "    <tr style=\"text-align: right;\">\n",
       "      <th></th>\n",
       "      <th>dt</th>\n",
       "      <th>name</th>\n",
       "      <th>customDimensions</th>\n",
       "      <th>customMeasurements</th>\n",
       "      <th>operation_Id</th>\n",
       "      <th>operation_ParentId</th>\n",
       "      <th>session_Id</th>\n",
       "      <th>user_Id</th>\n",
       "      <th>client_City</th>\n",
       "    </tr>\n",
       "  </thead>\n",
       "  <tbody>\n",
       "    <tr>\n",
       "      <th>0</th>\n",
       "      <td>2024-10-21 15:01:43</td>\n",
       "      <td>search-job</td>\n",
       "      <td>{\"candidateId\":\"14803365\",\"useCase\":\"ags\",\"res...</td>\n",
       "      <td>{\"totalCount\":11,\"noMatchWarning\":1}</td>\n",
       "      <td>fc59e8f75b0347ffaa6008ca32f0e214</td>\n",
       "      <td>fc59e8f75b0347ffaa6008ca32f0e214</td>\n",
       "      <td>xaj4upL15UqOAXq0WV7LGq</td>\n",
       "      <td>dijr2pcbZo4dIAYgE+aELl</td>\n",
       "      <td>Paris</td>\n",
       "    </tr>\n",
       "    <tr>\n",
       "      <th>1</th>\n",
       "      <td>2024-10-21 15:01:43</td>\n",
       "      <td>search-job</td>\n",
       "      <td>{\"candidateId\":\"14803365\",\"useCase\":\"ags\",\"res...</td>\n",
       "      <td>{\"totalCount\":11,\"noMatchWarning\":1}</td>\n",
       "      <td>fc59e8f75b0347ffaa6008ca32f0e214</td>\n",
       "      <td>fc59e8f75b0347ffaa6008ca32f0e214</td>\n",
       "      <td>xaj4upL15UqOAXq0WV7LGq</td>\n",
       "      <td>dijr2pcbZo4dIAYgE+aELl</td>\n",
       "      <td>Paris</td>\n",
       "    </tr>\n",
       "    <tr>\n",
       "      <th>2</th>\n",
       "      <td>2024-10-21 15:01:43</td>\n",
       "      <td>sort-results</td>\n",
       "      <td>{\"candidateId\":\"14803365\",\"searchId\":\"cTUjiyDr...</td>\n",
       "      <td>NaN</td>\n",
       "      <td>fc59e8f75b0347ffaa6008ca32f0e214</td>\n",
       "      <td>fc59e8f75b0347ffaa6008ca32f0e214</td>\n",
       "      <td>xaj4upL15UqOAXq0WV7LGq</td>\n",
       "      <td>dijr2pcbZo4dIAYgE+aELl</td>\n",
       "      <td>Paris</td>\n",
       "    </tr>\n",
       "    <tr>\n",
       "      <th>3</th>\n",
       "      <td>2024-10-21 15:01:43</td>\n",
       "      <td>search-job</td>\n",
       "      <td>{\"candidateId\":\"14803365\",\"useCase\":\"ags\",\"res...</td>\n",
       "      <td>{\"totalCount\":11,\"noMatchWarning\":1}</td>\n",
       "      <td>fc59e8f75b0347ffaa6008ca32f0e214</td>\n",
       "      <td>fc59e8f75b0347ffaa6008ca32f0e214</td>\n",
       "      <td>xaj4upL15UqOAXq0WV7LGq</td>\n",
       "      <td>dijr2pcbZo4dIAYgE+aELl</td>\n",
       "      <td>Paris</td>\n",
       "    </tr>\n",
       "    <tr>\n",
       "      <th>4</th>\n",
       "      <td>2024-10-21 15:03:43</td>\n",
       "      <td>click-link</td>\n",
       "      <td>{\"searchId\":\"cTUjiyDrwpHwzp87Rr2Qq\",\"url\":\"htt...</td>\n",
       "      <td>NaN</td>\n",
       "      <td>fc59e8f75b0347ffaa6008ca32f0e214</td>\n",
       "      <td>fc59e8f75b0347ffaa6008ca32f0e214</td>\n",
       "      <td>xaj4upL15UqOAXq0WV7LGq</td>\n",
       "      <td>dijr2pcbZo4dIAYgE+aELl</td>\n",
       "      <td>Paris</td>\n",
       "    </tr>\n",
       "  </tbody>\n",
       "</table>\n",
       "</div>"
      ],
      "text/plain": [
       "                   dt          name  \\\n",
       "0 2024-10-21 15:01:43    search-job   \n",
       "1 2024-10-21 15:01:43    search-job   \n",
       "2 2024-10-21 15:01:43  sort-results   \n",
       "3 2024-10-21 15:01:43    search-job   \n",
       "4 2024-10-21 15:03:43    click-link   \n",
       "\n",
       "                                    customDimensions  \\\n",
       "0  {\"candidateId\":\"14803365\",\"useCase\":\"ags\",\"res...   \n",
       "1  {\"candidateId\":\"14803365\",\"useCase\":\"ags\",\"res...   \n",
       "2  {\"candidateId\":\"14803365\",\"searchId\":\"cTUjiyDr...   \n",
       "3  {\"candidateId\":\"14803365\",\"useCase\":\"ags\",\"res...   \n",
       "4  {\"searchId\":\"cTUjiyDrwpHwzp87Rr2Qq\",\"url\":\"htt...   \n",
       "\n",
       "                     customMeasurements                      operation_Id  \\\n",
       "0  {\"totalCount\":11,\"noMatchWarning\":1}  fc59e8f75b0347ffaa6008ca32f0e214   \n",
       "1  {\"totalCount\":11,\"noMatchWarning\":1}  fc59e8f75b0347ffaa6008ca32f0e214   \n",
       "2                                   NaN  fc59e8f75b0347ffaa6008ca32f0e214   \n",
       "3  {\"totalCount\":11,\"noMatchWarning\":1}  fc59e8f75b0347ffaa6008ca32f0e214   \n",
       "4                                   NaN  fc59e8f75b0347ffaa6008ca32f0e214   \n",
       "\n",
       "                 operation_ParentId              session_Id  \\\n",
       "0  fc59e8f75b0347ffaa6008ca32f0e214  xaj4upL15UqOAXq0WV7LGq   \n",
       "1  fc59e8f75b0347ffaa6008ca32f0e214  xaj4upL15UqOAXq0WV7LGq   \n",
       "2  fc59e8f75b0347ffaa6008ca32f0e214  xaj4upL15UqOAXq0WV7LGq   \n",
       "3  fc59e8f75b0347ffaa6008ca32f0e214  xaj4upL15UqOAXq0WV7LGq   \n",
       "4  fc59e8f75b0347ffaa6008ca32f0e214  xaj4upL15UqOAXq0WV7LGq   \n",
       "\n",
       "                  user_Id client_City  \n",
       "0  dijr2pcbZo4dIAYgE+aELl       Paris  \n",
       "1  dijr2pcbZo4dIAYgE+aELl       Paris  \n",
       "2  dijr2pcbZo4dIAYgE+aELl       Paris  \n",
       "3  dijr2pcbZo4dIAYgE+aELl       Paris  \n",
       "4  dijr2pcbZo4dIAYgE+aELl       Paris  "
      ]
     },
     "execution_count": 43,
     "metadata": {},
     "output_type": "execute_result"
    }
   ],
   "source": [
    "df.head()"
   ]
  },
  {
   "cell_type": "markdown",
   "metadata": {},
   "source": [
    "# Convertir `customDimensions` et `customMeasurements` en dictionnaire JSON pour faciliter l'analyse"
   ]
  },
  {
   "cell_type": "code",
   "execution_count": 44,
   "metadata": {},
   "outputs": [],
   "source": [
    "df[\"customDimensions\"] = df[\"customDimensions\"].apply(lambda x: json.loads(x) if isinstance(x, str) else {})\n",
    "df[\"customMeasurements\"] = df[\"customMeasurements\"].apply(lambda x: json.loads(x) if isinstance(x, str) else {})\n"
   ]
  },
  {
   "cell_type": "markdown",
   "metadata": {},
   "source": [
    "# 1️) Nombre total de recherches"
   ]
  },
  {
   "cell_type": "code",
   "execution_count": 45,
   "metadata": {},
   "outputs": [
    {
     "name": "stdout",
     "output_type": "stream",
     "text": [
      "Nombre total de recherches: 2220\n",
      "\n",
      "\n"
     ]
    }
   ],
   "source": [
    "total_searches = df[df[\"name\"] == \"search-job\"].shape[0]\n",
    "print(f\"Nombre total de recherches: {total_searches}\\n\")\n"
   ]
  },
  {
   "cell_type": "markdown",
   "metadata": {},
   "source": [
    "# 2) Détection des erreurs"
   ]
  },
  {
   "cell_type": "markdown",
   "metadata": {},
   "source": [
    "####                 I) Les erreurs de search-job"
   ]
  },
  {
   "cell_type": "code",
   "execution_count": 46,
   "metadata": {},
   "outputs": [
    {
     "name": "stdout",
     "output_type": "stream",
     "text": [
      "\n",
      "\n",
      "Nombre d'erreurs de recherche de jobs: 498\n"
     ]
    }
   ],
   "source": [
    "pattern = r'\"usecaseError\":\"422'\n",
    "s = d1[(d1['name'] == 'search-job') & (d1[\"customDimensions\"].str.contains(pattern))].shape[0]\n",
    "print(f\"\\n\\nNombre d'erreurs de recherche de jobs: {s}\")\n"
   ]
  },
  {
   "cell_type": "markdown",
   "metadata": {},
   "source": [
    "#### II) Click-link pattern respecté"
   ]
  },
  {
   "cell_type": "code",
   "execution_count": 47,
   "metadata": {},
   "outputs": [
    {
     "name": "stdout",
     "output_type": "stream",
     "text": [
      "\n",
      "\n",
      "Le format Click link est respecté:  True\n"
     ]
    }
   ],
   "source": [
    "p = r'{\"searchId\":\"[^\"]+\",\"url\":\"[^\"]+\"}'\n",
    "\n",
    "link = d1[(d1['name'] == 'click-link') & (d1[\"customDimensions\"].str.contains(p))].shape[0]\n",
    "print(\"\\n\\nLe format Click link est respecté: \",link == d1[(d1['name'] == 'click-link')].shape[0])"
   ]
  },
  {
   "cell_type": "markdown",
   "metadata": {},
   "source": [
    "#### III) Sort-job pattern respecté"
   ]
  },
  {
   "cell_type": "code",
   "execution_count": 48,
   "metadata": {},
   "outputs": [
    {
     "name": "stdout",
     "output_type": "stream",
     "text": [
      "\n",
      "\n",
      "Le format Sort job est respecté:  True\n"
     ]
    }
   ],
   "source": [
    "p = r'{\"candidateId\":\"[^\"]+\",\"searchId\":\"[^\"]+\",\"sortType\":\"[^\"]+\",\"sortedOffers\":\"\\[[^\\]]+\\]\"}'\n",
    "\n",
    "sort = d1[(d1['name'] == 'sort-job') & (d1[\"customDimensions\"].str.contains(p))].shape[0]\n",
    "print(\"\\n\\nLe format Sort job est respecté: \",sort == d1[(d1['name'] == 'sort-job')].shape[0])"
   ]
  },
  {
   "cell_type": "markdown",
   "metadata": {},
   "source": [
    "# 3) Nombre de candidats uniques"
   ]
  },
  {
   "cell_type": "code",
   "execution_count": 56,
   "metadata": {},
   "outputs": [
    {
     "name": "stdout",
     "output_type": "stream",
     "text": [
      "Nombre de candidats uniques: 275\n",
      "\n"
     ]
    }
   ],
   "source": [
    "\n",
    "df[\"candidateId\"] = df[\"customDimensions\"].apply(lambda x: x.get(\"candidateId\", None))\n",
    "unique_candidates = df[\"candidateId\"].nunique()\n",
    "print(f\"Nombre de candidats uniques: {unique_candidates}\\n\")\n",
    "\n"
   ]
  },
  {
   "cell_type": "markdown",
   "metadata": {},
   "source": [
    "# 4) Nombre moyen d'offres retournées par candidat"
   ]
  },
  {
   "cell_type": "code",
   "execution_count": 50,
   "metadata": {},
   "outputs": [
    {
     "name": "stdout",
     "output_type": "stream",
     "text": [
      "Nombre moyen d'offres par candidat: 67.68\n",
      "\n"
     ]
    }
   ],
   "source": [
    "search_jobs = df[df[\"name\"] == \"search-job\"]\n",
    "search_jobs = search_jobs.copy()\n",
    "search_jobs[\"totalCount\"] = search_jobs[\"customMeasurements\"].apply(lambda x: x.get(\"totalCount\", 0))\n",
    "avg_offers_per_candidate = search_jobs.groupby(\"candidateId\")[\"totalCount\"].mean().mean()\n",
    "print(f\"Nombre moyen d'offres par candidat: {avg_offers_per_candidate:.2f}\\n\")\n",
    "\n"
   ]
  },
  {
   "cell_type": "markdown",
   "metadata": {},
   "source": [
    "# 5) Analyse des feedbacks (likes, dislikes, neutral, null)"
   ]
  },
  {
   "cell_type": "code",
   "execution_count": 51,
   "metadata": {},
   "outputs": [
    {
     "name": "stdout",
     "output_type": "stream",
     "text": [
      "Répartition des feedbacks:\n",
      " like\n",
      "dislike    48\n",
      "like       38\n",
      "neutral    15\n",
      "null        5\n",
      "Name: count, dtype: int64\n"
     ]
    }
   ],
   "source": [
    "feedback_jobs = df[df[\"name\"] == \"feedback-search-job\"]\n",
    "feedback_jobs = feedback_jobs.copy()\n",
    "feedback_jobs[\"like\"] = feedback_jobs[\"customDimensions\"].apply(lambda x: x.get(\"like\", \"null\"))\n",
    "feedback_counts = feedback_jobs[\"like\"].value_counts()\n",
    "\n",
    "print(\"Répartition des feedbacks:\\n\", feedback_counts)\n",
    "\n"
   ]
  },
  {
   "cell_type": "markdown",
   "metadata": {},
   "source": [
    "# 6) Extraction des raisons des dislikes"
   ]
  },
  {
   "cell_type": "code",
   "execution_count": 52,
   "metadata": {},
   "outputs": [
    {
     "name": "stdout",
     "output_type": "stream",
     "text": [
      "\n",
      "Les raisons des dislikes:\n",
      " customDimensions\n",
      "Les compétences du candidat ne sont pas du tout en lien avec le job    31\n",
      "mauvaise distance                                                       4\n",
      "alternance                                                              3\n",
      "offre plus en ligne                                                     2\n",
      "OFFRE PLUS EN LIGNE                                                     2\n",
      "alternance refusé par tt                                                1\n",
      "annonce plus en ligne                                                   1\n",
      "plus en ligne                                                           1\n",
      "Localisation de l'agence Tarascon par rapport à la mission              1\n",
      "AGENCE DE LA ROCHELLE ME SIGNALE QUE L'OFFRE N'EST PLUS D'ACTUALITE     1\n",
      "Distance inadequate                                                     1\n",
      "Name: count, dtype: int64\n"
     ]
    }
   ],
   "source": [
    "dislike_reasons = feedback_jobs[feedback_jobs[\"like\"] == \"dislike\"][\"customDimensions\"].apply(lambda x: x.get(\"feedback\", \"Inconnue\"))\n",
    "reason_counts = dislike_reasons.value_counts()\n",
    "print(\"\\nLes raisons des dislikes:\\n\", reason_counts)\n",
    "\n"
   ]
  },
  {
   "cell_type": "code",
   "execution_count": 53,
   "metadata": {},
   "outputs": [
    {
     "name": "stdout",
     "output_type": "stream",
     "text": [
      "\n",
      "Pourcentage des raisons des dislikes:\n",
      " customDimensions\n",
      "Les compétences du candidat ne sont pas du tout en lien avec le job    64.58\n",
      "mauvaise distance                                                       8.33\n",
      "alternance                                                              6.25\n",
      "offre plus en ligne                                                     4.17\n",
      "OFFRE PLUS EN LIGNE                                                     4.17\n",
      "alternance refusé par tt                                                2.08\n",
      "annonce plus en ligne                                                   2.08\n",
      "plus en ligne                                                           2.08\n",
      "Localisation de l'agence Tarascon par rapport à la mission              2.08\n",
      "AGENCE DE LA ROCHELLE ME SIGNALE QUE L'OFFRE N'EST PLUS D'ACTUALITE     2.08\n",
      "Distance inadequate                                                     2.08\n",
      "Name: count, dtype: float64\n"
     ]
    }
   ],
   "source": [
    "reason_counts_freq = (reason_counts * 100 / reason_counts.sum()).round(2)\n",
    "print(\"\\nPourcentage des raisons des dislikes:\\n\", reason_counts_freq)"
   ]
  },
  {
   "cell_type": "markdown",
   "metadata": {},
   "source": [
    "# 📊 Visualisation des données"
   ]
  },
  {
   "cell_type": "markdown",
   "metadata": {},
   "source": [
    "## Repartition des feedbacks"
   ]
  },
  {
   "cell_type": "code",
   "execution_count": 54,
   "metadata": {},
   "outputs": [
    {
     "data": {
      "image/png": "[encoded data removed]",
      "text/plain": [
       "<Figure size 1000x500 with 1 Axes>"
      ]
     },
     "metadata": {},
     "output_type": "display_data"
    }
   ],
   "source": [
    "plt.figure(figsize=(10, 5))\n",
    "feedback_counts.plot(kind='bar', title='Répartition des feedbacks')\n",
    "plt.xlabel('Type de Feedback')\n",
    "plt.ylabel('Nombre')\n",
    "plt.show()\n"
   ]
  },
  {
   "cell_type": "markdown",
   "metadata": {},
   "source": [
    "## Raisons des dislikes"
   ]
  },
  {
   "cell_type": "code",
   "execution_count": 55,
   "metadata": {},
   "outputs": [
    {
     "data": {
      "image/png": "[encoded data removed]",
      "text/plain": [
       "<Figure size 1000x500 with 1 Axes>"
      ]
     },
     "metadata": {},
     "output_type": "display_data"
    }
   ],
   "source": [
    "\n",
    "if not reason_counts.empty:\n",
    "    plt.figure(figsize=(10, 5))\n",
    "    reason_counts.plot(kind='bar', title='Raisons des dislikes')\n",
    "    plt.xlabel('Raisons')\n",
    "    plt.ylabel('Nombre')\n",
    "    plt.show()\n"
   ]
  }
 ],
 "metadata": {
  "kernelspec": {
   "display_name": "base",
   "language": "python",
   "name": "python3"
  },
  "language_info": {
   "codemirror_mode": {
    "name": "ipython",
    "version": 3
   },
   "file_extension": ".py",
   "mimetype": "text/x-python",
   "name": "python",
   "nbconvert_exporter": "python",
   "pygments_lexer": "ipython3",
   "version": "3.12.7"
  }
 },
 "nbformat": 4,
 "nbformat_minor": 2
}
